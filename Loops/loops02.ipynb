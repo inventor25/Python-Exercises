{
 "cells": [
  {
   "cell_type": "markdown",
   "metadata": {},
   "source": [
    "# kullanıcıdan sayı al çarpım tablosu yazdır"
   ]
  },
  {
   "cell_type": "code",
   "execution_count": 4,
   "metadata": {},
   "outputs": [
    {
     "name": "stdout",
     "output_type": "stream",
     "text": [
      "4 x 0  = 0\n",
      "4 x 1  = 4\n",
      "4 x 2  = 8\n",
      "4 x 3  = 12\n",
      "4 x 4  = 16\n",
      "4 x 5  = 20\n",
      "4 x 6  = 24\n",
      "4 x 7  = 28\n",
      "4 x 8  = 32\n",
      "4 x 9  = 36\n",
      "4 x 10 = 40\n"
     ]
    }
   ],
   "source": [
    "sayi = int(input(\"Sayi gir 1-10 arasinda\"))\n",
    "for i in range(0,11):\n",
    "    print(f\"{sayi} x {i:<2} = {sayi*i}\")"
   ]
  },
  {
   "cell_type": "code",
   "execution_count": 9,
   "metadata": {},
   "outputs": [
    {
     "name": "stdout",
     "output_type": "stream",
     "text": [
      "12 x 0  = 0\n",
      "12 x 1  = 12\n",
      "12 x 2  = 24\n",
      "12 x 3  = 36\n",
      "12 x 4  = 48\n",
      "12 x 5  = 60\n",
      "12 x 6  = 72\n",
      "12 x 7  = 84\n",
      "12 x 8  = 96\n",
      "12 x 9  = 108\n",
      "12 x 10 = 120\n"
     ]
    }
   ],
   "source": [
    "sayi = input(\"Sayi gir 1-10 arasinda\")\n",
    "if sayi.isnumeric():\n",
    "    for i in range(0,11):\n",
    "        print(f\"{int(sayi)} x {i:<2} = {int(sayi)*i}\")\n",
    "else:\n",
    "    print(\"Girilen değer numeric değil\")        "
   ]
  },
  {
   "cell_type": "code",
   "execution_count": 16,
   "metadata": {},
   "outputs": [
    {
     "name": "stdout",
     "output_type": "stream",
     "text": [
      "Girilen değer numeric değil\n"
     ]
    }
   ],
   "source": [
    "sayi = input(\"Sayi gir 1-10 arasinda\")\n",
    "if sayi.isnumeric():\n",
    "    if 1 <= int(sayi) <=10:\n",
    "        for i in range(0,11):\n",
    "            print(f\"{int(sayi)} x {i:<2} = {int(sayi)*i}\")\n",
    "    else:\n",
    "            print(\"Sayi 1-10 arasinda yok\")    \n",
    "else:\n",
    "    print(\"Girilen değer numeric değil\")    "
   ]
  },
  {
   "cell_type": "code",
   "execution_count": 17,
   "metadata": {},
   "outputs": [
    {
     "name": "stdout",
     "output_type": "stream",
     "text": [
      "Sayi 1-10 arasinda yok\n"
     ]
    }
   ],
   "source": [
    "sayi = input(\"Sayi gir 1-10 arasinda\")\n",
    "if sayi.lstrip(\"-\").isnumeric():\n",
    "    if 1 <= int(sayi) <=10:\n",
    "        for i in range(0,11):\n",
    "            print(f\"{int(sayi)} x {i:<2} = {int(sayi)*i}\")\n",
    "    else:\n",
    "            print(\"Sayi 1-10 arasinda yok\")    \n",
    "else:\n",
    "    print(\"Girilen değer numeric değil\")    "
   ]
  },
  {
   "cell_type": "code",
   "execution_count": 23,
   "metadata": {},
   "outputs": [
    {
     "name": "stdout",
     "output_type": "stream",
     "text": [
      "Sayi 1-10 arasinda yok Tekrar gir\n",
      "Girilen değer numeric değil Tekrar gir\n",
      "Girilen değer numeric değil Tekrar gir\n",
      "Girilen değer numeric değil Tekrar gir\n",
      "Sayi 1-10 arasinda yok Tekrar gir\n",
      "Girilen değer numeric değil Tekrar gir\n",
      "Sayi 1-10 arasinda yok Tekrar gir\n",
      "Sayi 1-10 arasinda yok Tekrar gir\n",
      "9 x 0  = 0\n",
      "9 x 1  = 9\n",
      "9 x 2  = 18\n",
      "9 x 3  = 27\n",
      "9 x 4  = 36\n",
      "9 x 5  = 45\n",
      "9 x 6  = 54\n",
      "9 x 7  = 63\n",
      "9 x 8  = 72\n",
      "9 x 9  = 81\n",
      "9 x 10 = 90\n"
     ]
    }
   ],
   "source": [
    "while True:\n",
    "\n",
    "    sayi = input(\"Sayi gir 1-10 arasinda\")\n",
    "    if sayi.lstrip(\"-\").isnumeric():\n",
    "        if 1 <= int(sayi) <=10:\n",
    "            for i in range(0,11):\n",
    "                print(f\"{int(sayi)} x {i:<2} = {int(sayi)*i}\")\n",
    "            break    \n",
    "        else:\n",
    "                print(\"Sayi 1-10 arasinda yok Tekrar gir\") \n",
    "    else:\n",
    "        print(\"Girilen değer numeric değil Tekrar gir\")    "
   ]
  },
  {
   "cell_type": "markdown",
   "metadata": {},
   "source": [
    "# enumerate()"
   ]
  },
  {
   "cell_type": "code",
   "execution_count": 26,
   "metadata": {},
   "outputs": [],
   "source": [
    "name = [\"Ahmet\",\"Mehmet\",\"Dondurma\"]"
   ]
  },
  {
   "cell_type": "code",
   "execution_count": 27,
   "metadata": {},
   "outputs": [
    {
     "data": {
      "text/plain": [
       "<enumerate at 0x27b1f82a390>"
      ]
     },
     "execution_count": 27,
     "metadata": {},
     "output_type": "execute_result"
    }
   ],
   "source": [
    "enumerate(name)"
   ]
  },
  {
   "cell_type": "code",
   "execution_count": 28,
   "metadata": {},
   "outputs": [
    {
     "data": {
      "text/plain": [
       "[(0, 'Ahmet'), (1, 'Mehmet'), (2, 'Dondurma')]"
      ]
     },
     "execution_count": 28,
     "metadata": {},
     "output_type": "execute_result"
    }
   ],
   "source": [
    "list(enumerate(name))"
   ]
  },
  {
   "cell_type": "code",
   "execution_count": 29,
   "metadata": {},
   "outputs": [
    {
     "data": {
      "text/plain": [
       "{0: 'Ahmet', 1: 'Mehmet', 2: 'Dondurma'}"
      ]
     },
     "execution_count": 29,
     "metadata": {},
     "output_type": "execute_result"
    }
   ],
   "source": [
    "dict(enumerate(name))"
   ]
  },
  {
   "cell_type": "code",
   "execution_count": 30,
   "metadata": {},
   "outputs": [
    {
     "data": {
      "text/plain": [
       "{100: 'Ahmet', 101: 'Mehmet', 102: 'Dondurma'}"
      ]
     },
     "execution_count": 30,
     "metadata": {},
     "output_type": "execute_result"
    }
   ],
   "source": [
    "dict(enumerate(name,100))"
   ]
  },
  {
   "cell_type": "code",
   "execution_count": 37,
   "metadata": {},
   "outputs": [
    {
     "name": "stdout",
     "output_type": "stream",
     "text": [
      "[8, 12, 14, 23, 25, 31, 32, 38, 40, 43, 49]\n"
     ]
    }
   ],
   "source": [
    "number_list = [48, 10, 11, 21, 36, 5, 6, 52, 28, 29,\n",
    "       53, 54, 45, 19, 20, 47, 55, 39, 41, 7,\n",
    "       9, 17, 26, 27, 42, 22, 37, 51, 46, 18,\n",
    "       44, 30, 34, 13, 15, 35, 33, 16, 50, 24]\n",
    "\n",
    "min_deger = min(number_list)\n",
    "max_deger = max(number_list)\n",
    "kayip_sayilar=[]\n",
    "tam_liste = list(range(min_deger,max_deger+1))\n",
    "\n",
    "for i in tam_liste:\n",
    "    if i not in number_list:\n",
    "            kayip_sayilar.append(i)\n",
    "print(kayip_sayilar)\n"
   ]
  },
  {
   "cell_type": "code",
   "execution_count": 49,
   "metadata": {},
   "outputs": [
    {
     "data": {
      "text/plain": [
       "{8, 12, 14, 23, 25, 31, 32, 38, 40, 43, 49}"
      ]
     },
     "execution_count": 49,
     "metadata": {},
     "output_type": "execute_result"
    }
   ],
   "source": [
    "set(range(min_deger,max_deger+1)) - set(number_list)\n"
   ]
  },
  {
   "cell_type": "markdown",
   "metadata": {},
   "source": [
    "# List Comprehension"
   ]
  },
  {
   "cell_type": "code",
   "execution_count": 50,
   "metadata": {},
   "outputs": [
    {
     "data": {
      "text/plain": [
       "[1, 4, 9, 16, 25]"
      ]
     },
     "execution_count": 50,
     "metadata": {},
     "output_type": "execute_result"
    }
   ],
   "source": [
    "list_01=[1,2,3,4,5]\n",
    "sonuc = []\n",
    "\n",
    "for i in list_01:\n",
    "    sonuc.append(i**2)\n",
    "sonuc    "
   ]
  },
  {
   "cell_type": "code",
   "execution_count": 51,
   "metadata": {},
   "outputs": [
    {
     "data": {
      "text/plain": [
       "[1, 4, 9, 16, 25]"
      ]
     },
     "execution_count": 51,
     "metadata": {},
     "output_type": "execute_result"
    }
   ],
   "source": [
    "[i**2   for i in list_01]"
   ]
  },
  {
   "cell_type": "code",
   "execution_count": 65,
   "metadata": {},
   "outputs": [],
   "source": [
    "sayilar_listesi = [1,15,2,36,5,89,45,62,52,71,30,56,45,95,61,48] # çift olanlar yerinde kalsın tek olanların karesini yazdırın.\n",
    "teksayi_list=[]"
   ]
  },
  {
   "cell_type": "code",
   "execution_count": 66,
   "metadata": {},
   "outputs": [
    {
     "name": "stdout",
     "output_type": "stream",
     "text": [
      "[1, 15, 5, 89, 45, 71, 45, 95, 61]\n"
     ]
    }
   ],
   "source": [
    "for i in sayilar_listesi:\n",
    "    if i %2:\n",
    "      teksayi_list.append(i)\n",
    "print(teksayi_list)"
   ]
  },
  {
   "cell_type": "code",
   "execution_count": 69,
   "metadata": {},
   "outputs": [
    {
     "data": {
      "text/plain": [
       "[1, 15, 5, 89, 45, 71, 45, 95, 61]"
      ]
     },
     "execution_count": 69,
     "metadata": {},
     "output_type": "execute_result"
    }
   ],
   "source": [
    "[i   for i in sayilar_listesi if i % 2]"
   ]
  },
  {
   "cell_type": "code",
   "execution_count": 78,
   "metadata": {},
   "outputs": [],
   "source": [
    "liste_02 = [\"ahmet\",\"mehmet\",\"dondurma\"]"
   ]
  },
  {
   "cell_type": "code",
   "execution_count": 85,
   "metadata": {},
   "outputs": [],
   "source": [
    "sonuc_01=[]"
   ]
  },
  {
   "cell_type": "code",
   "execution_count": 86,
   "metadata": {},
   "outputs": [
    {
     "data": {
      "text/plain": [
       "['ahmet', 'mehmet']"
      ]
     },
     "execution_count": 86,
     "metadata": {},
     "output_type": "execute_result"
    }
   ],
   "source": [
    "for i in liste_02:\n",
    "    if i[-1]==\"t\":\n",
    "        sonuc_01.append(i)\n",
    "sonuc_01        "
   ]
  },
  {
   "cell_type": "code",
   "execution_count": 89,
   "metadata": {},
   "outputs": [
    {
     "data": {
      "text/plain": [
       "['ahmet', 'mehmet']"
      ]
     },
     "execution_count": 89,
     "metadata": {},
     "output_type": "execute_result"
    }
   ],
   "source": [
    "[i for i in liste_02 if i[-1]==\"t\"]\n",
    "\n"
   ]
  },
  {
   "cell_type": "code",
   "execution_count": 90,
   "metadata": {},
   "outputs": [
    {
     "data": {
      "text/plain": [
       "['ahmet', 'mehmet']"
      ]
     },
     "execution_count": 90,
     "metadata": {},
     "output_type": "execute_result"
    }
   ],
   "source": [
    "[i for i in liste_02 if i.endswith(\"t\")]"
   ]
  },
  {
   "cell_type": "code",
   "execution_count": 92,
   "metadata": {},
   "outputs": [
    {
     "data": {
      "text/plain": [
       "['ahmet', 'mehmet']"
      ]
     },
     "execution_count": 92,
     "metadata": {},
     "output_type": "execute_result"
    }
   ],
   "source": [
    "[i for i in liste_02 if i[-1]==\"t\" if i < 10]"
   ]
  },
  {
   "cell_type": "code",
   "execution_count": 95,
   "metadata": {},
   "outputs": [],
   "source": [
    "sayilar_listesi = [1,15,2,36,5,89,45,62,52,71,30,56,45,95,61,48] #  çiftler ayni teklerin karesi"
   ]
  },
  {
   "cell_type": "code",
   "execution_count": 94,
   "metadata": {},
   "outputs": [
    {
     "data": {
      "text/plain": [
       "[1, 225, 2, 36, 25, 7921, 2025, 62, 52, 5041, 30, 56, 2025, 9025, 3721, 48]"
      ]
     },
     "execution_count": 94,
     "metadata": {},
     "output_type": "execute_result"
    }
   ],
   "source": [
    "result = []\n",
    "for i in sayilar_listesi:\n",
    "    if i %2==0:\n",
    "      result.append(i)\n",
    "    else:\n",
    "       result.append(i**2)\n",
    "result       "
   ]
  },
  {
   "cell_type": "code",
   "execution_count": 96,
   "metadata": {},
   "outputs": [
    {
     "data": {
      "text/plain": [
       "[1, 225, 2, 36, 25, 7921, 2025, 62, 52, 5041, 30, 56, 2025, 9025, 3721, 48]"
      ]
     },
     "execution_count": 96,
     "metadata": {},
     "output_type": "execute_result"
    }
   ],
   "source": [
    "[ i if i % 2 == 0 else i **2    for i in sayilar_listesi]"
   ]
  },
  {
   "cell_type": "code",
   "execution_count": 98,
   "metadata": {},
   "outputs": [
    {
     "name": "stdout",
     "output_type": "stream",
     "text": [
      "a\n",
      "b\n",
      "c\n",
      "d\n",
      "aa\n",
      "bb\n",
      "cc\n",
      "dd\n",
      "aaa\n",
      "bbb\n",
      "ccc\n",
      "ddd\n"
     ]
    }
   ],
   "source": [
    "\n",
    "for i in (1,2,3):\n",
    "    for j in (\"a\",\"b\",\"c\",\"d\"):\n",
    "        print(i*j)"
   ]
  },
  {
   "cell_type": "code",
   "execution_count": 101,
   "metadata": {},
   "outputs": [
    {
     "data": {
      "text/plain": [
       "['a', 'b', 'c', 'd', 'aa', 'bb', 'cc', 'dd', 'aaa', 'bbb', 'ccc', 'ddd']"
      ]
     },
     "execution_count": 101,
     "metadata": {},
     "output_type": "execute_result"
    }
   ],
   "source": [
    "\n",
    "[i *j for i in (1,2,3) for j in (\"a\",\"b\",\"c\",\"d\")]\n"
   ]
  },
  {
   "cell_type": "code",
   "execution_count": 109,
   "metadata": {},
   "outputs": [
    {
     "name": "stdout",
     "output_type": "stream",
     "text": [
      "Girilen sayi 453 armstrong bir sayi değil\n"
     ]
    }
   ],
   "source": [
    "sayi_1 = input(\"lütfen bir sayi giriniz\")\n",
    "uzunluk=len(sayi_1)\n",
    "toplam=0\n",
    "\n",
    "for i in sayi_1:\n",
    "    toplam += int(i) ** uzunluk\n",
    "\n",
    "if int(sayi_1) == toplam:\n",
    "    print(f\"Girilen sayi {sayi_1} armstrong bir sayidir\")\n",
    "else:\n",
    "    print(f\"Girilen sayi {sayi_1} armstrong bir sayi değil\")\n",
    "\n"
   ]
  },
  {
   "cell_type": "markdown",
   "metadata": {},
   "source": [
    "ödev - 2\n",
    "\n",
    "Bir markete gittiniz. Markette her ürünün bir kod numarası var. 1 : Elma 2 : Portakal 3 : Çilek 4 : Yumurta 5 : Havuç 6 : Armut ... vs. şeklinde. Kullanıcıya almak istediği ürünü sorunuz ve kod numarası ile seçim yaptırınız. Çıkış için \"q\" opsiyonunu sununuz. Kullanıcının her ürün seçimi sonrası \" .... elma sepete eklendi\" gibi bir dönüt veriniz. Kullanıcı ürün almaya devam ettikçe ürünleri bir listede toplayınız, almaktan vazgeçtiği durumda teşekkür edip, aldığı toplam ürünleri çıktı veren bir kod yazınız. Çıktı: Teşekkür Ederiz... Sepetinizde Bulunan Ürünler: elma, armut, yumurta ... vs.\n",
    "\n",
    "çıktı:\n",
    "\n",
    "Marketimize Hoş geldiniz\n",
    "Ürünlerimiz:\n",
    "1 : \"Elma\",\n",
    "2 : \"Portakal\",\n",
    "3 : \"Çilek\", \n",
    "4 : \"Yumurta\",\n",
    "5 : \"Havuç\",\n",
    "6 : \"Armut\"     \n",
    "      \n",
    "Sepete Portakal eklendi\n",
    "Sepete Yumurta eklendi\n",
    "Sepete Armut eklendi\n",
    "Sepete Armut eklendi\n",
    "Bizi tercih ettiğiniz için teşekkürler\n",
    "Almış olduğunuz ürünler: ['Portakal', 'Yumurta', 'Armut', 'Armut']"
   ]
  },
  {
   "cell_type": "code",
   "execution_count": 256,
   "metadata": {},
   "outputs": [
    {
     "name": "stdout",
     "output_type": "stream",
     "text": [
      "Marketimize Hoş geldiniz\n",
      "Ürünlerimiz:\n",
      "10 : \"Elma\",\n",
      "11 : \"Porkatal\",\n",
      "12 : \"Çilek\",\n",
      "13 : \"Yumurta\",\n",
      "14 : \"Havuç\",\n",
      "15 : \"Armut\",\n"
     ]
    },
    {
     "ename": "KeyboardInterrupt",
     "evalue": "",
     "output_type": "error",
     "traceback": [
      "\u001b[1;31m---------------------------------------------------------------------------\u001b[0m",
      "\u001b[1;31mKeyboardInterrupt\u001b[0m                         Traceback (most recent call last)",
      "Cell \u001b[1;32mIn[256], line 12\u001b[0m\n\u001b[0;32m     10\u001b[0m secim \u001b[38;5;241m=\u001b[39m \u001b[38;5;28mint\u001b[39m(\u001b[38;5;28minput\u001b[39m(\u001b[38;5;124m\"\u001b[39m\u001b[38;5;124mÜrün kodlarindan birini girerek sepete ekleyin\u001b[39m\u001b[38;5;124m\"\u001b[39m))\n\u001b[0;32m     11\u001b[0m \u001b[38;5;28;01mwhile\u001b[39;00m count\u001b[38;5;241m>\u001b[39m\u001b[38;5;241m0\u001b[39m:\n\u001b[1;32m---> 12\u001b[0m      \u001b[38;5;28;01mif\u001b[39;00m secim \u001b[38;5;129;01min\u001b[39;00m \u001b[43mlist_son_hal\u001b[49m\u001b[38;5;241;43m.\u001b[39;49m\u001b[43mkeys\u001b[49m\u001b[43m(\u001b[49m\u001b[43m)\u001b[49m:\n\u001b[0;32m     13\u001b[0m           eklenen_list\u001b[38;5;241m.\u001b[39mappend(list_son_hal\u001b[38;5;241m.\u001b[39mget(secim))\n\u001b[0;32m     14\u001b[0m           count\u001b[38;5;241m+\u001b[39m\u001b[38;5;241m=\u001b[39m\u001b[38;5;241m1\u001b[39m\n",
      "\u001b[1;31mKeyboardInterrupt\u001b[0m: "
     ]
    }
   ],
   "source": [
    "urunler =[\"Elma\",\"Porkatal\",\"Çilek\",\"Yumurta\",\"Havuç\",\"Armut\"]\n",
    "list_son_hal=dict(enumerate(urunler,10))\n",
    "market_yazi = \"\"\"Marketimize Hoş geldiniz\n",
    "Ürünlerimiz:\"\"\"\n",
    "print(market_yazi)\n",
    "for key, value in list_son_hal.items():\n",
    "     print(f\"{key} : \\\"{value}\\\",\")\n",
    "eklenen_list=[]\n",
    "count = 1\n",
    "secim = int(input(\"Ürün kodlarindan birini girerek sepete ekleyin\"))\n",
    "while count>0:\n",
    "     if secim in list_son_hal.keys():\n",
    "          eklenen_list.append(list_son_hal.get(secim))\n",
    "          count+=1\n",
    "     elif secim==100 :\n",
    "          break\n",
    "     elif secim not in list_son_hal.keys():\n",
    "          print(\"Girdiğiniz ürün kodu mevcut değil\")\n",
    "          break\n",
    "     \n",
    "          \n",
    "          \n",
    "print(eklenen_list)\n",
    "\n"
   ]
  },
  {
   "cell_type": "code",
   "execution_count": 254,
   "metadata": {},
   "outputs": [
    {
     "data": {
      "text/plain": [
       "{10: 'Elma',\n",
       " 11: 'Porkatal',\n",
       " 12: 'Çilek',\n",
       " 13: 'Yumurta',\n",
       " 14: 'Havuç',\n",
       " 15: 'Armut'}"
      ]
     },
     "execution_count": 254,
     "metadata": {},
     "output_type": "execute_result"
    }
   ],
   "source": [
    "list_son_hal\n"
   ]
  },
  {
   "cell_type": "code",
   "execution_count": 255,
   "metadata": {},
   "outputs": [
    {
     "data": {
      "text/plain": [
       "[]"
      ]
     },
     "execution_count": 255,
     "metadata": {},
     "output_type": "execute_result"
    }
   ],
   "source": [
    "eklenen_list\n",
    "\n"
   ]
  }
 ],
 "metadata": {
  "kernelspec": {
   "display_name": "Python 3",
   "language": "python",
   "name": "python3"
  },
  "language_info": {
   "codemirror_mode": {
    "name": "ipython",
    "version": 3
   },
   "file_extension": ".py",
   "mimetype": "text/x-python",
   "name": "python",
   "nbconvert_exporter": "python",
   "pygments_lexer": "ipython3",
   "version": "3.12.4"
  }
 },
 "nbformat": 4,
 "nbformat_minor": 2
}
