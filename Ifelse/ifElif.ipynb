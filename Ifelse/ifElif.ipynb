{
 "cells": [
  {
   "cell_type": "markdown",
   "metadata": {},
   "source": [
    "1 - Kullanıcıdan bir sayı alın.\n",
    "2 - Bu sayı 3 e bölünebiliyorsa \"Tech\",\n",
    "3 - 5 e bölünebiliyorsa \"Pro\",\n",
    "4 - Hem 5 e hem de 3 e bölünebiliyorsa \"Techpro\" yazdırın.\n",
    "5 - sayı bu şartların hiç birini sağlamıyorsa sayının kendisini yazdıran python kodunu yazın.\n",
    "Cevaplar yarın 15:00(tr) e kadar slack kanallarında paylaşılmayacak. 15:00 dan sonra paylaşabilirsiniz."
   ]
  },
  {
   "cell_type": "code",
   "execution_count": 21,
   "metadata": {},
   "outputs": [
    {
     "name": "stdout",
     "output_type": "stream",
     "text": [
      "Sayı hatalı :  22.0\n"
     ]
    }
   ],
   "source": [
    "sayi_1 = float(input(\"Lütfen bir sayı giriniz :\"))\n",
    "if(sayi_1 % 3 == 0 and sayi_1 % 5 == 0):\n",
    "    print(\"Techpro\")\n",
    "elif(sayi_1 % 3 == 0):\n",
    "    print(\"Tech\")\n",
    "elif(sayi_1 % 5 == 0):\n",
    "    print(\"Pro\")\n",
    "else : \n",
    "    print(\"Sayı hatalı : \" , sayi_1)\n"
   ]
  },
  {
   "cell_type": "markdown",
   "metadata": {},
   "source": [
    "kullanıcıdan boy ve kilo sunu öğrenip vki durumunu yazdırın."
   ]
  },
  {
   "cell_type": "code",
   "execution_count": 3,
   "metadata": {},
   "outputs": [
    {
     "name": "stdout",
     "output_type": "stream",
     "text": [
      "1.7\n",
      "\n",
      "vki: 29.410 %.\n",
      "Vücut kitle indexi % 29.41 \n",
      "fazla kilolu kategorisinde oran, %  25 altina düsürün\n"
     ]
    }
   ],
   "source": [
    "boy_ = input(\"Lütfen boyunuzu metre cinsinden giriniz Orn:1.70\")\n",
    "if boy_.__contains__(\".\"):\n",
    "    boy_ = float(boy_)\n",
    "    print(boy_)\n",
    "elif boy_.__contains__.__str__ and boy_.__len__()>=2 and boy_.__len__()<=3:\n",
    "    boy_ = float(boy_)\n",
    "    boy_ = boy_ / 100\n",
    "    print(boy_)\n",
    "else : \n",
    "    print(\"Yanlis giris yaptiniz\")\n",
    "\n",
    "kilo_ = float(input(\"Lütfen kilonuzu KG) cinsinden giriniz Orn:70\"))\n",
    "vki = kilo_ / boy_**2\n",
    "vki = round(vki,2)\n",
    "print(\"\\nvki: {:.3f} %.\".format(vki)) # noktadan sonra kaç rakam gözükür belirler\n",
    "\n",
    "\n",
    "if(vki < 18.5):\n",
    "    print(f\"Vücut kitle indexi: {vki} % \",\"\\nDüşük kilolu katogorisindesiniz orani, % 18.5 üstüne çikariniz \")\n",
    "elif(vki >= 18.5 and vki <= 24.99):\n",
    "    print(f\"Vücut kitle indexi ideal % {vki}\")  \n",
    "elif(vki >= 25 and vki <= 29.99):\n",
    "    print(f\"Vücut kitle indexi % {vki} \\nfazla kilolu kategorisinde oran, %  25 altina düsürün\")\n",
    "elif(vki >= 30):\n",
    "    print(f\"Vücut kitle indexi % {vki}  Obez kategorisi \\n, %  25 altina düsürün\")\n",
    "\n",
    "\n",
    "    "
   ]
  },
  {
   "cell_type": "code",
   "execution_count": 107,
   "metadata": {},
   "outputs": [
    {
     "data": {
      "text/plain": [
       "4"
      ]
     },
     "execution_count": 107,
     "metadata": {},
     "output_type": "execute_result"
    }
   ],
   "source": [
    "sayi_2 =\"1700\"\n",
    "sayi_2.__len__()\n"
   ]
  }
 ],
 "metadata": {
  "kernelspec": {
   "display_name": "Python 3",
   "language": "python",
   "name": "python3"
  },
  "language_info": {
   "codemirror_mode": {
    "name": "ipython",
    "version": 3
   },
   "file_extension": ".py",
   "mimetype": "text/x-python",
   "name": "python",
   "nbconvert_exporter": "python",
   "pygments_lexer": "ipython3",
   "version": "3.12.4"
  }
 },
 "nbformat": 4,
 "nbformat_minor": 2
}
