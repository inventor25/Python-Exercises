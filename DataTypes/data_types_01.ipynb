{
 "cells": [
  {
   "cell_type": "code",
   "execution_count": 1,
   "metadata": {},
   "outputs": [
    {
     "name": "stdout",
     "output_type": "stream",
     "text": [
      "selamlar\n"
     ]
    }
   ],
   "source": [
    "print(\"selamlar\")"
   ]
  },
  {
   "cell_type": "code",
   "execution_count": 2,
   "metadata": {},
   "outputs": [
    {
     "data": {
      "text/plain": [
       "str"
      ]
     },
     "execution_count": 2,
     "metadata": {},
     "output_type": "execute_result"
    }
   ],
   "source": [
    "type(\"selamlar\")"
   ]
  },
  {
   "cell_type": "code",
   "execution_count": null,
   "metadata": {},
   "outputs": [],
   "source": [
    "print(\"selamlar2\")"
   ]
  },
  {
   "cell_type": "code",
   "execution_count": 6,
   "metadata": {},
   "outputs": [
    {
     "name": "stdout",
     "output_type": "stream",
     "text": [
      "name: Ahmet age 25 job: QA\n"
     ]
    }
   ],
   "source": [
    "age_1 =25\n",
    "name_1=\"Ahmet\"\n",
    "job_1 = \"QA\"\n",
    "\n",
    "print(\"name:\", name_1,\\\n",
    "       \"age\", age_1,\\\n",
    "          \"job:\", job_1)"
   ]
  },
  {
   "cell_type": "code",
   "execution_count": 34,
   "metadata": {},
   "outputs": [
    {
     "name": "stdout",
     "output_type": "stream",
     "text": [
      "name: Ahmet\n"
     ]
    },
    {
     "data": {
      "text/plain": [
       "('job:', 'QA')"
      ]
     },
     "execution_count": 34,
     "metadata": {},
     "output_type": "execute_result"
    }
   ],
   "source": [
    "\n",
    "name_1=\"Ahmet\"\n",
    "age_1 = 32\n",
    "job_1 = \"QA\"\n",
    "print(\"name:\", name_1); (\"age:\", age_1); (\"job:\", job_1)"
   ]
  },
  {
   "cell_type": "code",
   "execution_count": 38,
   "metadata": {},
   "outputs": [
    {
     "name": "stdout",
     "output_type": "stream",
     "text": [
      "name: Ahmet\n",
      "age: 32\n",
      "job: QA\n"
     ]
    }
   ],
   "source": [
    "print('name:', name_1);print ('age:', age_1); print('job:', job_1)"
   ]
  },
  {
   "cell_type": "code",
   "execution_count": 37,
   "metadata": {},
   "outputs": [
    {
     "name": "stdout",
     "output_type": "stream",
     "text": [
      "name: job: age:\n",
      "Ahmet QA 32\n"
     ]
    }
   ],
   "source": [
    "print(\"name:\", \"job:\", \"age:\");print(name_1,job_1,age_1)"
   ]
  },
  {
   "cell_type": "code",
   "execution_count": 39,
   "metadata": {},
   "outputs": [
    {
     "name": "stdout",
     "output_type": "stream",
     "text": [
      "<class 'str'>\n"
     ]
    }
   ],
   "source": [
    "print(type(name_1))\n"
   ]
  },
  {
   "cell_type": "code",
   "execution_count": 40,
   "metadata": {},
   "outputs": [
    {
     "name": "stdout",
     "output_type": "stream",
     "text": [
      "<class 'int'>\n"
     ]
    }
   ],
   "source": [
    "print(type(age_1))\n"
   ]
  },
  {
   "cell_type": "code",
   "execution_count": 49,
   "metadata": {},
   "outputs": [],
   "source": [
    "name_1=age_1\n"
   ]
  },
  {
   "cell_type": "code",
   "execution_count": 51,
   "metadata": {},
   "outputs": [
    {
     "name": "stdout",
     "output_type": "stream",
     "text": [
      "<class 'int'>\n"
     ]
    }
   ],
   "source": [
    "print(type(name_1))\n"
   ]
  },
  {
   "cell_type": "code",
   "execution_count": 50,
   "metadata": {},
   "outputs": [
    {
     "name": "stdout",
     "output_type": "stream",
     "text": [
      "32\n"
     ]
    }
   ],
   "source": [
    "print(name_1)"
   ]
  },
  {
   "cell_type": "code",
   "execution_count": 46,
   "metadata": {},
   "outputs": [],
   "source": [
    "name_1 = \"Ahmet\""
   ]
  },
  {
   "cell_type": "code",
   "execution_count": 61,
   "metadata": {},
   "outputs": [],
   "source": [
    "ondalik = 3.12435"
   ]
  },
  {
   "cell_type": "code",
   "execution_count": 62,
   "metadata": {},
   "outputs": [
    {
     "name": "stdout",
     "output_type": "stream",
     "text": [
      "<class 'float'>\n"
     ]
    }
   ],
   "source": [
    "print(type(ondalik))\n"
   ]
  },
  {
   "cell_type": "code",
   "execution_count": 63,
   "metadata": {},
   "outputs": [
    {
     "name": "stdout",
     "output_type": "stream",
     "text": [
      "<class 'type'>\n"
     ]
    }
   ],
   "source": [
    "ondalik = int\n",
    "print(type(ondalik))"
   ]
  },
  {
   "cell_type": "code",
   "execution_count": 64,
   "metadata": {},
   "outputs": [
    {
     "name": "stdout",
     "output_type": "stream",
     "text": [
      "Hello World\n",
      "Welcome to Python Tutorial\n"
     ]
    }
   ],
   "source": [
    "# tekli yorum\n",
    "\n",
    "# yorum\n",
    "print(\"Hello World\")\n",
    "print(\"Welcome to Python Tutorial\") # bir cümle sonrası yorum"
   ]
  },
  {
   "cell_type": "code",
   "execution_count": 65,
   "metadata": {},
   "outputs": [
    {
     "name": "stdout",
     "output_type": "stream",
     "text": [
      "10 is greater than 5\n",
      "20 is greater than 10\n"
     ]
    }
   ],
   "source": [
    "# örnek python if() blok\n",
    "\n",
    "if 10 > 5:  # 1. blok başlar\n",
    "  print(\"10 is greater than 5\") # 1. block\n",
    "  if 20 > 10: # 1st block\n",
    "    print(\"20 is greater than 10\") # iç blok\n",
    "else: # 2nd block starts\n",
    "  print(\"10 is less than 5\") # 2. blok"
   ]
  },
  {
   "cell_type": "code",
   "execution_count": 77,
   "metadata": {},
   "outputs": [
    {
     "name": "stdout",
     "output_type": "stream",
     "text": [
      "True\n"
     ]
    }
   ],
   "source": [
    "x = 0\n",
    "y = bool(x)\n",
    "print(y)  # Output: False\n"
   ]
  },
  {
   "cell_type": "code",
   "execution_count": 97,
   "metadata": {},
   "outputs": [
    {
     "name": "stdout",
     "output_type": "stream",
     "text": [
      "10\n"
     ]
    }
   ],
   "source": [
    "x = '10'\n",
    "y = int(x)\n",
    "print(y)  # Output: 10\n"
   ]
  },
  {
   "cell_type": "code",
   "execution_count": 115,
   "metadata": {},
   "outputs": [
    {
     "name": "stdout",
     "output_type": "stream",
     "text": [
      "This is not the part of the SayHello() function\n",
      "Hello  123456\n",
      "This is the second statement of the SayHello() function\n",
      "This is the last statement of the SayHello() function\n"
     ]
    }
   ],
   "source": [
    "# Example: Python Function Block\n",
    "\n",
    "def SayHello(name):\n",
    "  print(\"Hello \", name)\n",
    "  print(\"This is the second statement of the SayHello() function\")\n",
    "  print(\"This is the last statement of the SayHello() function\")\n",
    "print(\"This is not the part of the SayHello() function\")\n",
    "\n",
    "#calling a function\n",
    "SayHello(123456)"
   ]
  },
  {
   "cell_type": "code",
   "execution_count": 121,
   "metadata": {},
   "outputs": [
    {
     "name": "stdout",
     "output_type": "stream",
     "text": [
      "10 None True\n"
     ]
    }
   ],
   "source": [
    "# Örnek: Çoklu Değişkenler Oluşturma\n",
    "\n",
    "x, y, z = 10,None,True\n",
    "print(x, y, z)  #10 None True\n"
   ]
  },
  {
   "cell_type": "code",
   "execution_count": 125,
   "metadata": {},
   "outputs": [
    {
     "name": "stdout",
     "output_type": "stream",
     "text": [
      "10 Hello True\n"
     ]
    }
   ],
   "source": [
    "# Örnek: Sözdizimi Hatası (Syntax Error)\n",
    "\n",
    "x = 10; y = 'Hello'; z = True \n",
    "print(x, y, z)"
   ]
  },
  {
   "cell_type": "code",
   "execution_count": null,
   "metadata": {},
   "outputs": [],
   "source": [
    "# Örnek: Sözdizimi Hatası (Syntax Error)\n",
    "\n",
    "x = 10, y = 'Hello', z = True "
   ]
  }
 ],
 "metadata": {
  "kernelspec": {
   "display_name": "Python 3",
   "language": "python",
   "name": "python3"
  },
  "language_info": {
   "codemirror_mode": {
    "name": "ipython",
    "version": 3
   },
   "file_extension": ".py",
   "mimetype": "text/x-python",
   "name": "python",
   "nbconvert_exporter": "python",
   "pygments_lexer": "ipython3",
   "version": "3.12.4"
  }
 },
 "nbformat": 4,
 "nbformat_minor": 2
}
