{
 "cells": [
  {
   "cell_type": "code",
   "execution_count": 1,
   "metadata": {},
   "outputs": [],
   "source": [
    "def kazan_kazan (name):\n",
    "    \"\"\"isimin içerisinde geçen sesli harfleri bulur\"\"\"\n",
    "\n",
    "    counter = 0\n",
    "    for i in name.lower():\n",
    "\n",
    "        if i in \"aeiıouöü\":\n",
    "            counter+=1\n",
    "    print(counter)        "
   ]
  },
  {
   "cell_type": "code",
   "execution_count": 2,
   "metadata": {},
   "outputs": [
    {
     "name": "stdout",
     "output_type": "stream",
     "text": [
      "2\n"
     ]
    },
    {
     "ename": "TypeError",
     "evalue": "unsupported operand type(s) for *: 'NoneType' and 'int'",
     "output_type": "error",
     "traceback": [
      "\u001b[1;31m---------------------------------------------------------------------------\u001b[0m",
      "\u001b[1;31mTypeError\u001b[0m                                 Traceback (most recent call last)",
      "Cell \u001b[1;32mIn[2], line 1\u001b[0m\n\u001b[1;32m----> 1\u001b[0m \u001b[43mkazan_kazan\u001b[49m\u001b[43m(\u001b[49m\u001b[38;5;124;43m\"\u001b[39;49m\u001b[38;5;124;43mAhmet\u001b[39;49m\u001b[38;5;124;43m\"\u001b[39;49m\u001b[43m)\u001b[49m\u001b[38;5;241;43m*\u001b[39;49m\u001b[38;5;241;43m1000\u001b[39;49m\n",
      "\u001b[1;31mTypeError\u001b[0m: unsupported operand type(s) for *: 'NoneType' and 'int'"
     ]
    }
   ],
   "source": [
    "kazan_kazan(\"Ahmet\")*1000"
   ]
  },
  {
   "cell_type": "code",
   "execution_count": 3,
   "metadata": {},
   "outputs": [],
   "source": [
    "def kazan_kazan_2 (name):\n",
    "    \"\"\"isimin içerisinde geçen sesli harfleri bulur\"\"\"\n",
    "\n",
    "    counter = 0\n",
    "    for i in name.lower():\n",
    "\n",
    "        if i in \"aeiıouöü\":\n",
    "            counter+=1\n",
    "    return counter      "
   ]
  },
  {
   "cell_type": "code",
   "execution_count": 4,
   "metadata": {},
   "outputs": [
    {
     "name": "stdout",
     "output_type": "stream",
     "text": [
      "2\n"
     ]
    }
   ],
   "source": [
    "kazan_kazan(\"Ahmet\")"
   ]
  },
  {
   "cell_type": "code",
   "execution_count": null,
   "metadata": {},
   "outputs": [],
   "source": []
  },
  {
   "cell_type": "code",
   "execution_count": 16,
   "metadata": {},
   "outputs": [],
   "source": [
    "def isArmstrong(sayi):\n",
    "    sayi = str(sayi)\n",
    "    return sum([int(i)**len(sayi) for i in sayi])== int(sayi)"
   ]
  },
  {
   "cell_type": "code",
   "execution_count": 17,
   "metadata": {},
   "outputs": [
    {
     "data": {
      "text/plain": [
       "True"
      ]
     },
     "execution_count": 17,
     "metadata": {},
     "output_type": "execute_result"
    }
   ],
   "source": [
    "isArmstrong(407)"
   ]
  },
  {
   "cell_type": "code",
   "execution_count": null,
   "metadata": {},
   "outputs": [],
   "source": [
    "# sayi asal mi değil mi\n",
    "# sayi lasa mi değil mi"
   ]
  },
  {
   "cell_type": "code",
   "execution_count": 88,
   "metadata": {},
   "outputs": [],
   "source": [
    "def is_prime(number):\n",
    "    if number <= 1:\n",
    "        return f\"{number} 1'den küçük sayilar asal olmaz\" \n",
    "    elif number == 2:\n",
    "        return f\"2 asal sayidir\"   # 2 asaldır\n",
    "    elif number % 2 == 0:\n",
    "        return \"Çift sayilar asal değildir ancak 2 hariç 2 asal sayidir\"  \n",
    "    \n",
    "    # 3'ten başlayarak tek sayıları kontrol ediyoruz\n",
    "    for i in range(3, int(number**0.5) + 1, 2):\n",
    "        print(i)\n",
    "        if number % i == 0:\n",
    "            return f\"{number} Bölen bulundu, sayı asal değil\"  \n",
    "    return f\"{number} Hiçbir bölen bulunamadı, sayı asaldır\"  \n"
   ]
  },
  {
   "cell_type": "code",
   "execution_count": 89,
   "metadata": {},
   "outputs": [
    {
     "name": "stdout",
     "output_type": "stream",
     "text": [
      "3\n"
     ]
    },
    {
     "data": {
      "text/plain": [
       "'255 Bölen bulundu, sayı asal değil'"
      ]
     },
     "execution_count": 89,
     "metadata": {},
     "output_type": "execute_result"
    }
   ],
   "source": [
    "is_prime(255)"
   ]
  }
 ],
 "metadata": {
  "kernelspec": {
   "display_name": "Python 3",
   "language": "python",
   "name": "python3"
  },
  "language_info": {
   "codemirror_mode": {
    "name": "ipython",
    "version": 3
   },
   "file_extension": ".py",
   "mimetype": "text/x-python",
   "name": "python",
   "nbconvert_exporter": "python",
   "pygments_lexer": "ipython3",
   "version": "3.12.4"
  }
 },
 "nbformat": 4,
 "nbformat_minor": 2
}
